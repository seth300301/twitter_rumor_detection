{
 "cells": [
  {
   "cell_type": "code",
   "execution_count": 1,
   "metadata": {
    "_cell_guid": "b1076dfc-b9ad-4769-8c92-a6c4dae69d19",
    "_uuid": "8f2839f25d086af736a60e9eeb907d3b93b6e0e5",
    "execution": {
     "iopub.execute_input": "2022-05-12T11:17:16.135048Z",
     "iopub.status.busy": "2022-05-12T11:17:16.134706Z",
     "iopub.status.idle": "2022-05-12T11:17:16.309857Z",
     "shell.execute_reply": "2022-05-12T11:17:16.309071Z",
     "shell.execute_reply.started": "2022-05-12T11:17:16.134965Z"
    }
   },
   "outputs": [],
   "source": [
    "# This Python 3 environment comes with many helpful analytics libraries installed\n",
    "# It is defined by the kaggle/python Docker image: https://github.com/kaggle/docker-python\n",
    "# For example, here's several helpful packages to load\n",
    "\n",
    "import numpy as np # linear algebra\n",
    "import pandas as pd # data processing, CSV file I/O (e.g. pd.read_csv)\n",
    "\n",
    "# Input data files are available in the read-only \"../input/\" directory\n",
    "# For example, running this (by clicking run or pressing Shift+Enter) will list all files under the input directory\n",
    "\n",
    "import os\n",
    "for dirname, _, filenames in os.walk('/kaggle/input'):\n",
    "    for filename in filenames:\n",
    "        print(os.path.join(dirname, filename))\n",
    "\n",
    "# You can write up to 20GB to the current directory (/kaggle/working/) that gets preserved as output when you create a version using \"Save & Run All\" \n",
    "# You can also write temporary files to /kaggle/temp/, but they won't be saved outside of the current session"
   ]
  },
  {
   "cell_type": "code",
   "execution_count": 2,
   "metadata": {
    "execution": {
     "iopub.execute_input": "2022-05-12T11:17:16.887115Z",
     "iopub.status.busy": "2022-05-12T11:17:16.886866Z",
     "iopub.status.idle": "2022-05-12T11:17:23.980280Z",
     "shell.execute_reply": "2022-05-12T11:17:23.979567Z",
     "shell.execute_reply.started": "2022-05-12T11:17:16.887088Z"
    }
   },
   "outputs": [],
   "source": [
    "import json\n",
    "import csv\n",
    "import re\n",
    "import torch\n",
    "import pandas as pd\n",
    "import time\n",
    "import operator\n",
    "import math\n",
    "from torch.utils.data import TensorDataset, DataLoader, RandomSampler\n",
    "from torch.optim import AdamW\n",
    "import torch.nn as nn\n",
    "from transformers import BertModel, BertTokenizer, BertPreTrainedModel, AdamW\n",
    "from sklearn import preprocessing\n",
    "from sklearn.utils.class_weight import compute_class_weight"
   ]
  },
  {
   "cell_type": "markdown",
   "metadata": {},
   "source": [
    "Task 1"
   ]
  },
  {
   "cell_type": "code",
   "execution_count": null,
   "metadata": {
    "execution": {
     "iopub.execute_input": "2022-05-12T08:03:46.22327Z",
     "iopub.status.busy": "2022-05-12T08:03:46.222967Z",
     "iopub.status.idle": "2022-05-12T08:03:46.521346Z",
     "shell.execute_reply": "2022-05-12T08:03:46.520312Z",
     "shell.execute_reply.started": "2022-05-12T08:03:46.223225Z"
    }
   },
   "outputs": [],
   "source": [
    "DEV_FILE = '/kaggle/input/preprocessed-data/dev.csv'\n",
    "TRAIN_FILE = '/kaggle/input/preprocessed-data/train.csv'\n",
    "TEST_FILE = '/kaggle/input/preprocessed-data/test.csv'\n",
    "\n",
    "# over-sampling non-rumour data\n",
    "train_set = pd.read_csv(TRAIN_FILE)\n",
    "train_set_rumour_idx = train_set.index[train_set['Label'] == 'rumour'].tolist()\n",
    "ratio = math.floor(train_set['Label'].value_counts()[0]/train_set['Label'].value_counts()[1])\n",
    "while ratio:\n",
    "    train_set = pd.concat([train_set, train_set.loc[train_set_rumour_idx]], ignore_index=True, axis=0)\n",
    "    ratio -= 1\n",
    "train_set.to_csv('./train.csv', index = False)\n",
    "TRAIN_FILE = '/kaggle/working/train.csv'\n",
    "\n",
    "dev_set = pd.read_csv(DEV_FILE)\n",
    "dev_set_rumour_idx = dev_set.index[dev_set['Label'] == 'rumour'].tolist()\n",
    "ratio = math.floor(dev_set['Label'].value_counts()[0]/dev_set['Label'].value_counts()[1])\n",
    "while ratio:\n",
    "    dev_set = pd.concat([dev_set, dev_set.loc[dev_set_rumour_idx]], ignore_index=True, axis=0)\n",
    "    ratio -= 1\n",
    "dev_set.to_csv('./dev.csv', index = False)\n",
    "DEV_FILE = '/kaggle/working/dev.csv'"
   ]
  },
  {
   "cell_type": "code",
   "execution_count": null,
   "metadata": {
    "execution": {
     "iopub.execute_input": "2022-05-12T08:03:46.524363Z",
     "iopub.status.busy": "2022-05-12T08:03:46.524086Z",
     "iopub.status.idle": "2022-05-12T08:03:46.590555Z",
     "shell.execute_reply": "2022-05-12T08:03:46.589623Z",
     "shell.execute_reply.started": "2022-05-12T08:03:46.524323Z"
    }
   },
   "outputs": [],
   "source": [
    "# converts 'nonrumour' to 0 and 'rumour' to 1 in the list of labels in both training and development sets\n",
    "label_encoder = preprocessing.LabelEncoder()\n",
    "label_encoder.fit(['nonrumour', 'rumour'])\n",
    "\n",
    "train_events = pd.read_csv(TRAIN_FILE)\n",
    "train_events['Label'] = label_encoder.transform(train_events['Label'])\n",
    "dev_events = pd.read_csv(DEV_FILE)\n",
    "dev_events['Label'] = label_encoder.transform(dev_events['Label'])"
   ]
  },
  {
   "cell_type": "code",
   "execution_count": null,
   "metadata": {
    "execution": {
     "iopub.execute_input": "2022-05-12T08:03:46.592589Z",
     "iopub.status.busy": "2022-05-12T08:03:46.592301Z",
     "iopub.status.idle": "2022-05-12T08:03:46.598939Z",
     "shell.execute_reply": "2022-05-12T08:03:46.597988Z",
     "shell.execute_reply.started": "2022-05-12T08:03:46.592548Z"
    }
   },
   "outputs": [],
   "source": [
    "# compute the class weights for the loss function later on\n",
    "#class_weights = compute_class_weight(class_weight = 'balanced', classes = list(set(train_events['Label'])), y = train_events['Label'])\n",
    "#weights = torch.tensor(class_weights, dtype = torch.float)\n",
    "#weights = weights.to('cuda')"
   ]
  },
  {
   "cell_type": "code",
   "execution_count": null,
   "metadata": {
    "execution": {
     "iopub.execute_input": "2022-05-12T08:03:46.602742Z",
     "iopub.status.busy": "2022-05-12T08:03:46.602192Z",
     "iopub.status.idle": "2022-05-12T08:03:46.859249Z",
     "shell.execute_reply": "2022-05-12T08:03:46.858281Z",
     "shell.execute_reply.started": "2022-05-12T08:03:46.602694Z"
    }
   },
   "outputs": [],
   "source": [
    "def text_split(text):\n",
    "    #text = text.replace('[CLS]','')\n",
    "    #text = text.replace('[SEP]','')\n",
    "    new_text = ''\n",
    "    curr_text = ''\n",
    "    \n",
    "    for word in text.split():\n",
    "        curr_text += word + ' '\n",
    "        \n",
    "        if word == '[SEP]':\n",
    "            new_text += curr_text\n",
    "            curr_text = ''\n",
    "            \n",
    "    new_text = new_text[:-1]\n",
    "    \n",
    "    return new_text\n",
    "\n",
    "split_train_events = train_events.copy()\n",
    "split_train_events['Event Tweets'] = split_train_events['Event Tweets'].apply(text_split)\n",
    "split_dev_events = dev_events.copy()\n",
    "split_dev_events['Event Tweets'] = split_dev_events['Event Tweets'].apply(text_split)"
   ]
  },
  {
   "cell_type": "code",
   "execution_count": null,
   "metadata": {
    "execution": {
     "iopub.execute_input": "2022-05-12T08:03:46.861048Z",
     "iopub.status.busy": "2022-05-12T08:03:46.860749Z",
     "iopub.status.idle": "2022-05-12T08:03:47.045082Z",
     "shell.execute_reply": "2022-05-12T08:03:47.043771Z",
     "shell.execute_reply.started": "2022-05-12T08:03:46.860994Z"
    }
   },
   "outputs": [],
   "source": [
    "# finds the max length of all the tweets for both the training and development\n",
    "train_max = 0\n",
    "curr_count = 0\n",
    "\n",
    "for i in split_train_events['Event Tweets']:\n",
    "    for j in i.split():\n",
    "        curr_count += 1\n",
    "        if j == '[SEP]':\n",
    "            if curr_count > train_max:\n",
    "                train_max = curr_count\n",
    "            curr_count = 0\n",
    "        \n",
    "dev_max = 0\n",
    "curr_count = 0\n",
    "\n",
    "for i in split_dev_events['Event Tweets']:\n",
    "    for j in i.split():\n",
    "        curr_count += 1\n",
    "        if j == '[SEP]':\n",
    "            if curr_count > dev_max:\n",
    "                dev_max = curr_count\n",
    "            curr_count = 0\n",
    "        \n",
    "# max counts used for padding later on\n",
    "print(\"Training set has a max sentence length of\", train_max)\n",
    "print(\"Development set has a max sentence length of\", dev_max)"
   ]
  },
  {
   "cell_type": "code",
   "execution_count": null,
   "metadata": {
    "execution": {
     "iopub.execute_input": "2022-05-12T08:03:47.047371Z",
     "iopub.status.busy": "2022-05-12T08:03:47.047067Z",
     "iopub.status.idle": "2022-05-12T08:03:47.056222Z",
     "shell.execute_reply": "2022-05-12T08:03:47.055236Z",
     "shell.execute_reply.started": "2022-05-12T08:03:47.04733Z"
    }
   },
   "outputs": [],
   "source": [
    "# our main BERT classifier model\n",
    "class BertClassifier(nn.Module):\n",
    "\n",
    "    def __init__(self, bert_base):\n",
    "        super(BertClassifier, self).__init__()\n",
    "        self.bert = bert_base\n",
    "        self.in = nn.Linear(768,512)\n",
    "        self.relu = nn.ReLU()\n",
    "        self.dropout = nn.Dropout(0.3)\n",
    "        self.out = nn.Linear(512, 2)\n",
    "        self.softmax = nn.LogSoftmax(dim = 1)\n",
    "\n",
    "    def forward(self, input_ids, attention_mask):\n",
    "        \n",
    "        _, inputs = self.bert(input_ids, attention_mask = attention_mask, return_dict = False)\n",
    "        \n",
    "        x = self.in(inputs)\n",
    "        x = self.relu(x)\n",
    "        x = self.dropout(x)\n",
    "        x = self.out(x)\n",
    "        x = self.softmax(x)\n",
    "        \n",
    "        return x"
   ]
  },
  {
   "cell_type": "code",
   "execution_count": null,
   "metadata": {},
   "outputs": [],
   "source": [
    "bert_base = BertModel.from_pretrained('bert-base-uncased')\n",
    "model = BertClassifier(bert_base)\n",
    "model.to('cuda')"
   ]
  },
  {
   "cell_type": "code",
   "execution_count": null,
   "metadata": {
    "execution": {
     "iopub.execute_input": "2022-05-12T08:04:10.23731Z",
     "iopub.status.busy": "2022-05-12T08:04:10.23681Z",
     "iopub.status.idle": "2022-05-12T08:04:48.400666Z",
     "shell.execute_reply": "2022-05-12T08:04:48.399614Z",
     "shell.execute_reply.started": "2022-05-12T08:04:10.237265Z"
    }
   },
   "outputs": [],
   "source": [
    "tokenizer = BertTokenizer.from_pretrained('bert-base-uncased', do_lower_case = True)\n",
    "\n",
    "# batch_encode_plus tokenizes and prepares a list of ids using the BERT word embeddings dictionary and attention masks\n",
    "# which include padding with a max length to consider the padding for\n",
    "train_tokens = tokenizer.batch_encode_plus(\n",
    "    list(split_train_events['Event Tweets']),\n",
    "    add_special_tokens = False,\n",
    "    max_length = train_max,\n",
    "    pad_to_max_length = True,\n",
    "    truncation = True\n",
    ")\n",
    "\n",
    "dev_tokens = tokenizer.batch_encode_plus(\n",
    "    list(split_dev_events['Event Tweets']),\n",
    "    add_special_tokens = False,\n",
    "    max_length = dev_max,\n",
    "    pad_to_max_length = True,\n",
    "    truncation = True\n",
    ")"
   ]
  },
  {
   "cell_type": "code",
   "execution_count": null,
   "metadata": {
    "execution": {
     "iopub.execute_input": "2022-05-12T08:04:48.403615Z",
     "iopub.status.busy": "2022-05-12T08:04:48.402243Z",
     "iopub.status.idle": "2022-05-12T08:04:48.47852Z",
     "shell.execute_reply": "2022-05-12T08:04:48.477345Z",
     "shell.execute_reply.started": "2022-05-12T08:04:48.403567Z"
    }
   },
   "outputs": [],
   "source": [
    "# convert the lists of ids, attention masks, and labels to tensors to be read into tensor datasets to form\n",
    "# the samplers and data loaders\n",
    "train_ids = torch.tensor(train_tokens['input_ids'])\n",
    "train_mask = torch.tensor(train_tokens['attention_mask'])\n",
    "train_y = torch.tensor((list(split_train_events['Label'])))\n",
    "train_data = TensorDataset(train_ids, train_mask, train_y)\n",
    "train_sampler = RandomSampler(train_data)\n",
    "train_loader = DataLoader(train_data, sampler = train_sampler, batch_size = batch_size)\n",
    "\n",
    "dev_ids = torch.tensor(dev_tokens['input_ids'])\n",
    "dev_mask = torch.tensor(dev_tokens['attention_mask'])\n",
    "dev_y = torch.tensor(list(split_dev_events['Label']))\n",
    "dev_data = TensorDataset(dev_ids, dev_mask, dev_y)\n",
    "dev_sampler = RandomSampler(dev_data)\n",
    "dev_loader = DataLoader(dev_data, sampler = dev_sampler, batch_size = batch_size)"
   ]
  },
  {
   "cell_type": "code",
   "execution_count": null,
   "metadata": {
    "execution": {
     "iopub.execute_input": "2022-05-12T08:04:48.48076Z",
     "iopub.status.busy": "2022-05-12T08:04:48.480353Z",
     "iopub.status.idle": "2022-05-12T08:04:48.492783Z",
     "shell.execute_reply": "2022-05-12T08:04:48.491763Z",
     "shell.execute_reply.started": "2022-05-12T08:04:48.480682Z"
    }
   },
   "outputs": [],
   "source": [
    "def train():\n",
    "    model.train()\n",
    "    total_loss = 0.0\n",
    "    total_acc = 0.0\n",
    "    total = 0\n",
    "    \n",
    "    # for each batch\n",
    "    for step, (ids, masks, labels) in enumerate(train_loader):            \n",
    "        ids, masks, labels = ids.to('cuda'), masks.to('cuda'), labels.to('cuda')\n",
    "        \n",
    "        model.zero_grad() # clears gradients\n",
    "\n",
    "        preds = model(ids, masks)\n",
    "\n",
    "        loss = criterion(preds, labels)\n",
    "        \n",
    "        # l2 regularisation\n",
    "        l2_norm = sum(param.pow(2.0).sum() for param in model.parameters())\n",
    "        loss = loss + l_lambda * l2_norm\n",
    "        \n",
    "        # l1 regularisation\n",
    "        #l1_norm = sum(param.abs().sum() for param in model.parameters())\n",
    "        #loss = loss + l_lambda * l1_norm\n",
    "        \n",
    "        loss.backward() # computes gradient during neural network backward pass\n",
    "        total_loss = total_loss + loss.item()\n",
    "\n",
    "        # used to prevent the \"exploding gradients\" problem\n",
    "        torch.nn.utils.clip_grad_norm_(model.parameters(), 1.0)\n",
    "        \n",
    "        # update parameters\n",
    "        opti.step()\n",
    "\n",
    "        _, predicts = preds.max(1)\n",
    "        total += labels.size(0)\n",
    "        total_acc += predicts.eq(labels).sum().item()\n",
    "        \n",
    "    avg_loss = total_loss / len(train_loader)\n",
    "    total_acc = total_acc / total\n",
    "    \n",
    "    return avg_loss, total_acc"
   ]
  },
  {
   "cell_type": "code",
   "execution_count": null,
   "metadata": {
    "execution": {
     "iopub.execute_input": "2022-05-12T08:04:48.495253Z",
     "iopub.status.busy": "2022-05-12T08:04:48.494379Z",
     "iopub.status.idle": "2022-05-12T08:04:48.510627Z",
     "shell.execute_reply": "2022-05-12T08:04:48.50935Z",
     "shell.execute_reply.started": "2022-05-12T08:04:48.495212Z"
    }
   },
   "outputs": [],
   "source": [
    "def evaluate():\n",
    "    model.eval()\n",
    "    total_loss = 0.0\n",
    "    total_acc = 0.0\n",
    "    total = 0\n",
    "\n",
    "    # for each batch\n",
    "    for step, (ids, masks, labels) in enumerate(dev_loader):\n",
    "        ids, masks, labels = ids.to('cuda'), masks.to('cuda'), labels.to('cuda')\n",
    "\n",
    "        with torch.no_grad():\n",
    "            preds = model(ids, masks)\n",
    "            \n",
    "            loss = criterion(preds, labels)\n",
    "            \n",
    "            # l2 regularisation\n",
    "            l2_norm = sum(param.pow(2.0).sum() for param in model.parameters())\n",
    "            loss = loss + l_lambda * l2_norm\n",
    "            \n",
    "            # l1 regularisation\n",
    "            #l1_norm = sum(param.abs().sum() for param in model.parameters())\n",
    "            #loss = loss + l_lambda * l1_norm\n",
    "            \n",
    "            total_loss = total_loss + loss.item()\n",
    "            \n",
    "            _, predicts = preds.max(1)\n",
    "            total += labels.size(0)\n",
    "            total_acc += predicts.eq(labels).sum().item()\n",
    "        \n",
    "    avg_loss = total_loss / len(train_loader)\n",
    "    total_acc = total_acc / total\n",
    "    \n",
    "    return avg_loss, total_acc"
   ]
  },
  {
   "cell_type": "code",
   "execution_count": null,
   "metadata": {},
   "outputs": [],
   "source": [
    "# other parameters for the training and evaluation process\n",
    "opti = AdamW(model.parameters(), lr = 2e-5)    # AdamW optimiser\n",
    "criterion = nn.NLLLoss()                       # negative log-likelihood loss function\n",
    "l_lambda = 0.0001                              # lambda for l1/l2 regularisation\n",
    "max_epochs = 10\n",
    "batch_size = 3"
   ]
  },
  {
   "cell_type": "code",
   "execution_count": null,
   "metadata": {
    "execution": {
     "iopub.execute_input": "2022-05-12T08:04:48.512838Z",
     "iopub.status.busy": "2022-05-12T08:04:48.512478Z",
     "iopub.status.idle": "2022-05-12T08:25:48.328252Z",
     "shell.execute_reply": "2022-05-12T08:25:48.324592Z",
     "shell.execute_reply.started": "2022-05-12T08:04:48.51278Z"
    }
   },
   "outputs": [],
   "source": [
    "best_dev_loss = float('inf')\n",
    "\n",
    "train_loses = []\n",
    "dev_loses = []\n",
    "\n",
    "# actual training and evaluation occurs here for each epoch\n",
    "for ep in range(max_epochs):\n",
    "    print(\"Epoch \" + str(ep + 1) + \":\")\n",
    "    \n",
    "    train_loss, train_acc = train()\n",
    "    dev_loss, dev_acc = evaluate()\n",
    "    \n",
    "    # judges value based on development loss rather than development accuracy\n",
    "    if dev_loss < best_dev_loss:\n",
    "        best_dev_loss = dev_loss\n",
    "        torch.save(model.state_dict(), 'best_weights.pt') # saves the weights of the model of the current epoch\n",
    "        \n",
    "    train_loses.append(train_loss)\n",
    "    dev_loses.append(dev_loss)\n",
    "    \n",
    "    print(\"Training Loss:   \", train_loss, \"Training Accuracy:   \", train_acc)\n",
    "    print(\"Development Loss:\", dev_loss, \"Development Accuracy:\", dev_acc, \"\\n\")"
   ]
  },
  {
   "cell_type": "code",
   "execution_count": null,
   "metadata": {
    "execution": {
     "iopub.execute_input": "2022-05-12T08:25:48.330532Z",
     "iopub.status.busy": "2022-05-12T08:25:48.330202Z",
     "iopub.status.idle": "2022-05-12T08:25:48.426299Z",
     "shell.execute_reply": "2022-05-12T08:25:48.425246Z",
     "shell.execute_reply.started": "2022-05-12T08:25:48.330489Z"
    }
   },
   "outputs": [],
   "source": [
    "# same processes as for the training and development sets but for the test set\n",
    "test_events = pd.read_csv(TEST_FILE)\n",
    "split_test_events = test_events.copy()\n",
    "split_test_events['Event Tweets'] = split_test_events['Event Tweets'].apply(text_split)\n",
    "\n",
    "test_max = 0\n",
    "curr_count = 0\n",
    "\n",
    "for i in split_test_events['Event Tweets']:\n",
    "    for j in i.split():\n",
    "        curr_count += 1\n",
    "        if j == '[SEP]':\n",
    "            if curr_count > test_max:\n",
    "                test_max = curr_count\n",
    "            curr_count = 0\n",
    "            \n",
    "print(\"Test set has a max sentence length of\", test_max)"
   ]
  },
  {
   "cell_type": "code",
   "execution_count": null,
   "metadata": {
    "execution": {
     "iopub.execute_input": "2022-05-12T08:25:48.428547Z",
     "iopub.status.busy": "2022-05-12T08:25:48.427968Z",
     "iopub.status.idle": "2022-05-12T08:25:52.155638Z",
     "shell.execute_reply": "2022-05-12T08:25:52.154683Z",
     "shell.execute_reply.started": "2022-05-12T08:25:48.428501Z"
    }
   },
   "outputs": [],
   "source": [
    "test_tokens = tokenizer.batch_encode_plus(\n",
    "    list(split_test_events['Event Tweets']),\n",
    "    add_special_tokens = False,\n",
    "    max_length = train_max,\n",
    "    pad_to_max_length = True,\n",
    "    truncation = True\n",
    ")\n",
    "\n",
    "test_ids = torch.tensor(test_tokens['input_ids'])\n",
    "test_mask = torch.tensor(test_tokens['attention_mask'])\n",
    "\n",
    "test_data = TensorDataset(test_ids, test_mask)\n",
    "test_sampler = RandomSampler(test_data)\n",
    "test_loader = DataLoader(test_data, sampler = test_sampler, batch_size = batch_size)"
   ]
  },
  {
   "cell_type": "code",
   "execution_count": null,
   "metadata": {
    "execution": {
     "iopub.execute_input": "2022-05-12T08:25:52.157673Z",
     "iopub.status.busy": "2022-05-12T08:25:52.157356Z",
     "iopub.status.idle": "2022-05-12T08:25:53.353971Z",
     "shell.execute_reply": "2022-05-12T08:25:53.352963Z",
     "shell.execute_reply.started": "2022-05-12T08:25:52.157629Z"
    }
   },
   "outputs": [],
   "source": [
    "weight_file = f'best_weights.pt'\n",
    "model.load_state_dict(torch.load(weight_file)) # loads the best recorded weights during the best epoch\n",
    "\n",
    "with torch.no_grad():\n",
    "    preds = model(test_ids.to('cuda'), test_mask.to('cuda'))\n",
    "    preds = preds.detach().cpu().numpy() # gets the prediction labels from the GPU by pushing it to the CPU\n",
    "    preds = np.argmax(preds, axis = 1)"
   ]
  },
  {
   "cell_type": "code",
   "execution_count": null,
   "metadata": {
    "execution": {
     "iopub.execute_input": "2022-05-12T08:25:53.356234Z",
     "iopub.status.busy": "2022-05-12T08:25:53.355732Z",
     "iopub.status.idle": "2022-05-12T08:25:53.36623Z",
     "shell.execute_reply": "2022-05-12T08:25:53.365061Z",
     "shell.execute_reply.started": "2022-05-12T08:25:53.356189Z"
    }
   },
   "outputs": [],
   "source": [
    "with open('/kaggle/working/final.csv', 'w', newline='') as o:\n",
    "    csv_write = csv.writer(o)\n",
    "    csv_write.writerow(['Id', 'Predicted'])\n",
    "\n",
    "    for i in range(len(preds)):\n",
    "        idx = i\n",
    "        is_rumour = preds[i]\n",
    "        csv_write.writerow([idx, is_rumour])"
   ]
  },
  {
   "cell_type": "markdown",
   "metadata": {},
   "source": [
    "Task 2"
   ]
  },
  {
   "cell_type": "code",
   "execution_count": 3,
   "metadata": {
    "execution": {
     "iopub.execute_input": "2022-05-12T11:17:25.909876Z",
     "iopub.status.busy": "2022-05-12T11:17:25.909614Z",
     "iopub.status.idle": "2022-05-12T11:17:25.915070Z",
     "shell.execute_reply": "2022-05-12T11:17:25.914367Z",
     "shell.execute_reply.started": "2022-05-12T11:17:25.909848Z"
    }
   },
   "outputs": [],
   "source": [
    "# to process covid data, no need to run any of the cells in Section 'Task 1', just those in this section\n",
    "# some of these cells are repeats from above as we will use them in this section\n",
    "# if 'Task 1' cells have been run skip running cells labelled \"SKIP\"\n",
    "# SKIP\n",
    "def text_split(text):\n",
    "    #text = text.replace('[CLS]','')\n",
    "    #text = text.replace('[SEP]','')\n",
    "    new_text = ''\n",
    "    curr_text = ''\n",
    "    \n",
    "    for word in text.split():\n",
    "        curr_text += word + ' '\n",
    "        \n",
    "        if word == '[SEP]':\n",
    "            new_text += curr_text\n",
    "            curr_text = ''\n",
    "            \n",
    "    new_text = new_text[:-1]\n",
    "    \n",
    "    return new_text"
   ]
  },
  {
   "cell_type": "code",
   "execution_count": 4,
   "metadata": {
    "execution": {
     "iopub.execute_input": "2022-05-12T11:17:26.342514Z",
     "iopub.status.busy": "2022-05-12T11:17:26.342002Z",
     "iopub.status.idle": "2022-05-12T11:17:26.350020Z",
     "shell.execute_reply": "2022-05-12T11:17:26.349369Z",
     "shell.execute_reply.started": "2022-05-12T11:17:26.342476Z"
    }
   },
   "outputs": [],
   "source": [
    "# SKIP\n",
    "class BertClassifier(nn.Module):\n",
    "\n",
    "    def __init__(self, bert_base):\n",
    "        super(BertClassifier, self).__init__()\n",
    "        self.bert = bert_base\n",
    "        self.dropout = nn.Dropout(0.3)\n",
    "        self.relu = nn.ReLU()\n",
    "        self.in = nn.Linear(768,512)\n",
    "        self.out = nn.Linear(512, 2)\n",
    "        self.softmax = nn.LogSoftmax(dim = 1)\n",
    "\n",
    "    def forward(self, input_ids, attention_mask):\n",
    "        \n",
    "        _, inputs = self.bert(input_ids, attention_mask = attention_mask, return_dict = False)\n",
    "        \n",
    "        x = self.in(inputs)\n",
    "        x = self.relu(x)\n",
    "        x = self.dropout(x)\n",
    "        x = self.out(x)\n",
    "        x = self.softmax(x)\n",
    "        \n",
    "        return x"
   ]
  },
  {
   "cell_type": "code",
   "execution_count": 5,
   "metadata": {
    "execution": {
     "iopub.execute_input": "2022-05-12T11:17:26.860335Z",
     "iopub.status.busy": "2022-05-12T11:17:26.859722Z",
     "iopub.status.idle": "2022-05-12T11:17:47.658847Z",
     "shell.execute_reply": "2022-05-12T11:17:47.658166Z",
     "shell.execute_reply.started": "2022-05-12T11:17:26.860282Z"
    }
   },
   "outputs": [],
   "source": [
    "# SKIP\n",
    "tokenizer = BertTokenizer.from_pretrained('bert-base-uncased', do_lower_case = True)\n",
    "bert_base = BertModel.from_pretrained('bert-base-uncased')\n",
    "model = BertClassifier(bert_base)\n",
    "model.to('cuda')"
   ]
  },
  {
   "cell_type": "code",
   "execution_count": 6,
   "metadata": {
    "execution": {
     "iopub.execute_input": "2022-05-12T11:17:47.661024Z",
     "iopub.status.busy": "2022-05-12T11:17:47.660580Z",
     "iopub.status.idle": "2022-05-12T11:17:48.848050Z",
     "shell.execute_reply": "2022-05-12T11:17:48.847314Z",
     "shell.execute_reply.started": "2022-05-12T11:17:47.660987Z"
    }
   },
   "outputs": [],
   "source": [
    "# had to breakup the COVID dataset in 2 to be able to process it within the memory limit of 16GB\n",
    "# hence covid_1.csv and covid_2.csv\n",
    "#COVID_FILE = '/kaggle/input/preprocessed-data/covid_1.csv'\n",
    "COVID_FILE = '/kaggle/input/preprocessed-data/covid_2.csv'\n",
    "\n",
    "covid_events = pd.read_csv(COVID_FILE)\n",
    "split_covid_events = covid_events.copy()\n",
    "split_covid_events['Event Tweets'] = split_covid_events['Event Tweets'].apply(text_split)\n",
    "\n",
    "batch_size = 1 # have to set to 1 as setting to 3 causes memory issues due to size of COVID data\n",
    "covid_max = 30 # similarly with max length of padding, 67 is the actual max length in the COVID dataset\n",
    "#curr_count = 0\n",
    "\n",
    "#for i in split_covid_events['Event Tweets']:\n",
    "#    for j in i.split():\n",
    "#        curr_count += 1\n",
    "#        if j == '[SEP]':\n",
    "#            if curr_count > covid_max:\n",
    "#                covid_max = curr_count\n",
    "#            curr_count = 0\n",
    "#            \n",
    "#print(\"The COVID set has a max sentence length of\", covid_max)"
   ]
  },
  {
   "cell_type": "code",
   "execution_count": 7,
   "metadata": {
    "execution": {
     "iopub.execute_input": "2022-05-12T11:17:48.849727Z",
     "iopub.status.busy": "2022-05-12T11:17:48.849493Z",
     "iopub.status.idle": "2022-05-12T11:19:27.453659Z",
     "shell.execute_reply": "2022-05-12T11:19:27.452895Z",
     "shell.execute_reply.started": "2022-05-12T11:17:48.849694Z"
    }
   },
   "outputs": [],
   "source": [
    "covid_tokens = tokenizer.batch_encode_plus(\n",
    "    list(split_covid_events['Event Tweets']),\n",
    "    add_special_tokens = False,\n",
    "    max_length = covid_max,\n",
    "    pad_to_max_length = True,\n",
    "    truncation = True\n",
    ")\n",
    "\n",
    "covid_ids = torch.tensor(covid_tokens['input_ids'])\n",
    "covid_mask = torch.tensor(covid_tokens['attention_mask'])\n",
    "\n",
    "covid_data = TensorDataset(covid_ids, covid_mask)\n",
    "covid_sampler = RandomSampler(covid_data)\n",
    "covid_loader = DataLoader(covid_data, sampler = covid_sampler, batch_size = batch_size)"
   ]
  },
  {
   "cell_type": "code",
   "execution_count": 8,
   "metadata": {
    "execution": {
     "iopub.execute_input": "2022-05-12T11:19:27.455598Z",
     "iopub.status.busy": "2022-05-12T11:19:27.455358Z",
     "iopub.status.idle": "2022-05-12T11:19:31.365914Z",
     "shell.execute_reply": "2022-05-12T11:19:31.365185Z",
     "shell.execute_reply.started": "2022-05-12T11:19:27.455565Z"
    }
   },
   "outputs": [],
   "source": [
    "# use f'best_weights.pt' if 'Task 1' was ran, if not used the initially saved best weights of our best model\n",
    "#weight_file = f'best_weights.pt'\n",
    "weight_file = '/kaggle/input/preprocessed-data/best_weights.pt'\n",
    "model.load_state_dict(torch.load(weight_file))"
   ]
  },
  {
   "cell_type": "code",
   "execution_count": 9,
   "metadata": {
    "execution": {
     "iopub.execute_input": "2022-05-12T11:19:31.367231Z",
     "iopub.status.busy": "2022-05-12T11:19:31.366999Z",
     "iopub.status.idle": "2022-05-12T11:19:39.179246Z",
     "shell.execute_reply": "2022-05-12T11:19:39.178508Z",
     "shell.execute_reply.started": "2022-05-12T11:19:31.367197Z"
    }
   },
   "outputs": [],
   "source": [
    "with torch.no_grad():\n",
    "    preds = model(covid_ids.to('cuda'), covid_mask.to('cuda'))\n",
    "    preds = preds.detach().cpu().numpy()\n",
    "    preds = np.argmax(preds, axis = 1)"
   ]
  },
  {
   "cell_type": "code",
   "execution_count": 11,
   "metadata": {
    "execution": {
     "iopub.execute_input": "2022-05-12T11:21:50.202604Z",
     "iopub.status.busy": "2022-05-12T11:21:50.202193Z",
     "iopub.status.idle": "2022-05-12T11:21:50.225868Z",
     "shell.execute_reply": "2022-05-12T11:21:50.225133Z",
     "shell.execute_reply.started": "2022-05-12T11:21:50.202571Z"
    }
   },
   "outputs": [],
   "source": [
    "#with open('/kaggle/working/covid_preds_1.csv', 'w', newline='') as o:\n",
    "with open('/kaggle/working/covid_preds_2.csv', 'w', newline='') as o:\n",
    "    csv_write = csv.writer(o)\n",
    "    csv_write.writerow(['Id', 'Predicted'])\n",
    "\n",
    "    for i in range(len(preds)):\n",
    "        idx = i\n",
    "        is_rumour = preds[i]\n",
    "        csv_write.writerow([idx, is_rumour])"
   ]
  },
  {
   "cell_type": "code",
   "execution_count": null,
   "metadata": {},
   "outputs": [],
   "source": []
  }
 ],
 "metadata": {
  "kernelspec": {
   "display_name": "Python 3 (ipykernel)",
   "language": "python",
   "name": "python3"
  },
  "language_info": {
   "codemirror_mode": {
    "name": "ipython",
    "version": 3
   },
   "file_extension": ".py",
   "mimetype": "text/x-python",
   "name": "python",
   "nbconvert_exporter": "python",
   "pygments_lexer": "ipython3",
   "version": "3.9.7"
  }
 },
 "nbformat": 4,
 "nbformat_minor": 4
}
