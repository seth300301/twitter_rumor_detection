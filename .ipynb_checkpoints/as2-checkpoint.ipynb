{
 "cells": [
  {
   "cell_type": "markdown",
   "metadata": {},
   "source": [
    "# Assignment 2: Language Modelling in Hangman"
   ]
  },
  {
   "cell_type": "markdown",
   "metadata": {
    "collapsed": true
   },
   "source": [
    "Student Name: Seth Ng Jun Jie\n",
    "\n",
    "Student ID: 1067992"
   ]
  },
  {
   "cell_type": "markdown",
   "metadata": {},
   "source": [
    "## General info"
   ]
  },
  {
   "cell_type": "markdown",
   "metadata": {},
   "source": [
    "<b>Due date</b>: Friday, 8 April 2022 5pm\n",
    "\n",
    "<b>Submission method</b>: Canvas submission\n",
    "\n",
    "<b>Submission materials</b>: completed copy of this iPython notebook\n",
    "\n",
    "<b>Late submissions</b>: -10% per day (both week and weekend days counted)\n",
    "\n",
    "<b>Marks</b>: 8% of mark for class (with 7% on correctness + 1% on quality and efficiency of your code)\n",
    "\n",
    "<b>Materials</b>: See \"Using Jupyter Notebook and Python page\" on Canvas (under Modules>Resources) for information on the basic setup required for this class, including an iPython notebook viewer and the python packages NLTK, Numpy, Scipy, Matplotlib, Scikit-Learn, and Gensim. We recommend installing all the data for NLTK, since you will need various parts of it to complete this assignment. You can also use any Python built-in packages, but do not use any other 3rd party packages (the packages listed above are all fine to use); if your iPython notebook doesn't run on the marker's machine, you will lose marks. <b> You should use Python 3</b>.  \n",
    "\n",
    "To familiarize yourself with NLTK, here is a free online book:  Steven Bird, Ewan Klein, and Edward Loper (2009). <a href=https://www.nltk.org/book/>Natural Language Processing with Python</a>. O'Reilly Media Inc. You may also consult the <a href=https://www.nltk.org/api/nltk.html>NLTK API</a>.\n",
    "\n",
    "<b>Evaluation</b>: Your iPython notebook should run end-to-end without any errors in a reasonable amount of time, and you must follow all instructions provided below, including specific implementation requirements and instructions for what needs to be printed (please avoid printing output we don't ask for). You should edit the sections below where requested, but leave the rest of the code as is. You should leave the output from running your code in the iPython notebook you submit, to assist with marking. The amount each question is worth is explicitly given. \n",
    "\n",
    "You will be marked not only on the correctness of your methods, but also the quality and efficency of your code: in particular, you should be careful to use Python built-in functions and operators when appropriate and pick descriptive variable names that adhere to <a href=\"https://www.python.org/dev/peps/pep-0008/\">Python style requirements</a>. If you think it might be unclear what you are doing, you should comment your code to help the marker make sense of it.\n",
    "\n",
    "<b>Updates</b>: Any major changes to the assignment will be announced via Canvas. Minor changes and clarifications will be announced on the discussion board; we recommend you check it regularly.\n",
    "\n",
    "<b>Academic misconduct</b>: For most people, collaboration will form a natural part of the undertaking of this homework, and we encourge you to discuss it in general terms with other students. However, this ultimately is still an individual task, and so reuse of code or other instances of clear influence will be considered cheating. We will be checking submissions for originality and will invoke the University’s <a href=\"http://academichonesty.unimelb.edu.au/policy.html\">Academic Misconduct policy</a> where inappropriate levels of collusion or plagiarism are deemed to have taken place."
   ]
  },
  {
   "cell_type": "markdown",
   "metadata": {},
   "source": [
    "# Overview\n",
    "\n",
    "In this homework, you'll be creating an 'artificial intelligence' player for the classic Hangman word guessing game. You will need to implement several different automatic strategies based on character-level n-gram language models. Your objective is to create an automatic player which makes the fewest mistakes."
   ]
  },
  {
   "cell_type": "markdown",
   "metadata": {},
   "source": [
    "# The Hangman Game (7 marks)"
   ]
  },
  {
   "cell_type": "markdown",
   "metadata": {},
   "source": [
    "**Instructions**: The <a href=\"https://en.wikipedia.org/wiki/Hangman_(game)\">Hangman game</a> is a simple game whereby one person thinks of a word, which they keep secret from their opponent, who tries to guess the word one character at a time. The game ends when the opponent makes more than a fixed number of incorrect guesses, or they figure out the secret word before then (in which case they *win*). \n",
    "\n",
    "Here's a simple version of the game. **No implementation is needed.**"
   ]
  },
  {
   "cell_type": "code",
   "execution_count": 1,
   "metadata": {},
   "outputs": [],
   "source": [
    "def hangman(secret_word, guesser, max_mistakes=8, verbose=True, **guesser_args):\n",
    "    \"\"\"\n",
    "        This function plays the hangman game with the provided guesser and returns the number of incorrect guesses. \n",
    "        \n",
    "        secret_word: a string of lower-case alphabetic characters, i.e., the answer to the game\n",
    "        guesser: a function which guesses the next character at each stage in the game\n",
    "            The function takes a:\n",
    "                mask: what is known of the word, as a string with _ denoting an unknown character\n",
    "                guessed: the set of characters which already been guessed in the game\n",
    "                guesser_args: additional (optional) keyword arguments, i.e., name=value\n",
    "        max_mistakes: limit on length of game, in terms of number of allowed mistakes\n",
    "        verbose: silent or verbose diagnostic prints\n",
    "        guesser_args: keyword arguments to pass directly to the guesser function\n",
    "    \"\"\"\n",
    "    secret_word = secret_word.lower()\n",
    "    mask = ['_'] * len(secret_word)\n",
    "    guessed = set()\n",
    "    if verbose:\n",
    "        print(\"Starting hangman game. Target is\", ' '.join(mask), 'length', len(secret_word))\n",
    "    \n",
    "    mistakes = 0\n",
    "    while mistakes < max_mistakes:\n",
    "        if verbose:\n",
    "            print(\"You have\", (max_mistakes-mistakes), \"attempts remaining.\")\n",
    "        guess = guesser(mask, guessed, **guesser_args)\n",
    "\n",
    "        if verbose:\n",
    "            print('Guess is', guess)\n",
    "        if guess in guessed:\n",
    "            if verbose:\n",
    "                print('Already guessed this before.')\n",
    "            mistakes += 1\n",
    "        else:\n",
    "            guessed.add(guess)\n",
    "            if guess in secret_word and len(guess) == 1:\n",
    "                for i, c in enumerate(secret_word):\n",
    "                    if c == guess:\n",
    "                        mask[i] = c\n",
    "                if verbose:\n",
    "                    print('Good guess:', ' '.join(mask))\n",
    "            else:\n",
    "                if len(guess) != 1:\n",
    "                    print('Please guess with only 1 character.')\n",
    "                if verbose:\n",
    "                    print('Sorry, try again.')\n",
    "                mistakes += 1\n",
    "                \n",
    "        if '_' not in mask:\n",
    "            if verbose:\n",
    "                print('Congratulations, you won.')\n",
    "            return mistakes\n",
    "        \n",
    "    if verbose:\n",
    "        print('Out of guesses. The word was', secret_word)    \n",
    "    return mistakes"
   ]
  },
  {
   "cell_type": "markdown",
   "metadata": {},
   "source": [
    "Here is a human guesser allowing interactive play."
   ]
  },
  {
   "cell_type": "code",
   "execution_count": 2,
   "metadata": {},
   "outputs": [],
   "source": [
    "def human(mask, guessed, **kwargs):\n",
    "    \"\"\"\n",
    "    This is a simple function for manual play.\n",
    "    \"\"\"\n",
    "    print('\\nEnter your guess:')\n",
    "    return input().lower().strip()"
   ]
  },
  {
   "cell_type": "markdown",
   "metadata": {},
   "source": [
    "If you want to play hangman interactively, please set `interactive` to `True`. When submitting your solution, set to `False` so we can automatically run the whole notebook using `Run All`."
   ]
  },
  {
   "cell_type": "code",
   "execution_count": 21,
   "metadata": {},
   "outputs": [],
   "source": [
    "interactive = False"
   ]
  },
  {
   "cell_type": "markdown",
   "metadata": {},
   "source": [
    "<b>For your testing:</b>\n",
    "\n",
    "You can play the game interactively using the following command:"
   ]
  },
  {
   "cell_type": "code",
   "execution_count": 7,
   "metadata": {},
   "outputs": [],
   "source": [
    "if interactive:\n",
    "    hangman('whatever', human, 8, True)"
   ]
  },
  {
   "cell_type": "markdown",
   "metadata": {
    "collapsed": true
   },
   "source": [
    "### Question 1 (1.0 mark)\n",
    "\n",
    "**Instructions**: We will use the words in NLTK's Brown corpus for training an artificial intelligence guessing algorithm, and for evaluating the quality of the algorithm.\n",
    "\n",
    "Your first task is to compute the number of **unique word types** occurring in the Brown corpus, using `nltk.corpus.brown` and the `words` method, and select only words that are **entirely comprised of alphabetic characters**. You should also **lowercase the words**. Finally, randomly shuffle (`numpy.random.shuffle`) this collection of word types, and split them into disjoint training and testing sets. The test set should contain 1000 word types, and the rest should be in the  training set. Note that we are intentionally making the hangman game hard, as the AI will need to cope with test words that it has not seen before, hence it will need to learn generalisable patterns of characters to make reasonable predictions.\n",
    "\n",
    "**Task**: Collect all unique word types from the Brown corpus, and produce `training_set` and `test_set`, 2 lists that contain 2 disjointed sets of words. Both `training_set` and `test_set` should be a python `list` (as initialised in the code). `test_set` must contain exactly 1000 word types.\n",
    "\n",
    "**Check**: Use the assertion statements in <b>\"For your testing\"</b> below for the expected output."
   ]
  },
  {
   "cell_type": "code",
   "execution_count": 17,
   "metadata": {},
   "outputs": [
    {
     "name": "stdout",
     "output_type": "stream",
     "text": [
      "Number of word types in test = 1000\n",
      "Number of word types in train = 39234\n"
     ]
    }
   ],
   "source": [
    "from nltk.corpus import brown\n",
    "import numpy as np\n",
    "\n",
    "np.random.seed(1)\n",
    "\n",
    "# training_set stores the rest word types for training\n",
    "training_set = []\n",
    "# test_set stores 1000 word types for testing\n",
    "test_set = []\n",
    "\n",
    "brown_words = brown.words()\n",
    "unique_words = set()\n",
    "\n",
    "for word in brown_words:\n",
    "    # checking if the word is only comprised of alphabetic characters\n",
    "    only_alpha = True\n",
    "    for char in word:\n",
    "        if not char.isalpha():\n",
    "            only_alpha = False\n",
    "            break\n",
    "    if only_alpha:\n",
    "        unique_words.add(word.lower())\n",
    "\n",
    "unique_words = list(unique_words)\n",
    "np.random.shuffle(unique_words)\n",
    "\n",
    "training_set = unique_words[:-1000]\n",
    "test_set = unique_words[-1000:]\n",
    "\n",
    "print(\"Number of word types in test =\", len(test_set))\n",
    "print(\"Number of word types in train =\", len(training_set))"
   ]
  },
  {
   "cell_type": "markdown",
   "metadata": {},
   "source": [
    "<b>For your testing:</b>"
   ]
  },
  {
   "cell_type": "code",
   "execution_count": 18,
   "metadata": {},
   "outputs": [],
   "source": [
    "assert(len(training_set) > 35000 and len(training_set) < 45000)\n",
    "assert(len(test_set) == 1000)"
   ]
  },
  {
   "cell_type": "markdown",
   "metadata": {},
   "source": [
    "**Play the game**:\n",
    "\n",
    "Let's see how good you are at this game! Try to guess a random word from the test set. It is surprisingly difficult (and addictive)! Don't forget to set `interactive = True`."
   ]
  },
  {
   "cell_type": "code",
   "execution_count": 20,
   "metadata": {},
   "outputs": [
    {
     "name": "stdout",
     "output_type": "stream",
     "text": [
      "Starting hangman game. Target is _ _ _ _ _ _ _ _ length 8\n",
      "You have 8 attempts remaining.\n",
      "\n",
      "Enter your guess:\n",
      "w\n",
      "Guess is w\n",
      "Sorry, try again.\n",
      "You have 7 attempts remaining.\n",
      "\n",
      "Enter your guess:\n",
      "a\n",
      "Guess is a\n",
      "Sorry, try again.\n",
      "You have 6 attempts remaining.\n",
      "\n",
      "Enter your guess:\n",
      "r\n",
      "Guess is r\n",
      "Good guess: _ _ _ _ r _ _ r\n",
      "You have 6 attempts remaining.\n",
      "\n",
      "Enter your guess:\n",
      "e\n",
      "Guess is e\n",
      "Good guess: _ _ _ e r _ _ r\n",
      "You have 6 attempts remaining.\n",
      "\n",
      "Enter your guess:\n",
      "c\n",
      "Guess is c\n",
      "Sorry, try again.\n",
      "You have 5 attempts remaining.\n",
      "\n",
      "Enter your guess:\n",
      "s\n",
      "Guess is s\n",
      "Good guess: s _ _ e r _ _ r\n",
      "You have 5 attempts remaining.\n",
      "\n",
      "Enter your guess:\n",
      "t\n",
      "Guess is t\n",
      "Sorry, try again.\n",
      "You have 4 attempts remaining.\n",
      "\n",
      "Enter your guess:\n",
      "o\n",
      "Guess is o\n",
      "Good guess: s _ _ e r _ o r\n",
      "You have 4 attempts remaining.\n",
      "\n",
      "Enter your guess:\n",
      "p\n",
      "Guess is p\n",
      "Good guess: s _ p e r _ o r\n",
      "You have 4 attempts remaining.\n",
      "\n",
      "Enter your guess:\n",
      "u\n",
      "Guess is u\n",
      "Good guess: s u p e r _ o r\n",
      "You have 4 attempts remaining.\n",
      "\n",
      "Enter your guess:\n",
      "i\n",
      "Guess is i\n",
      "Good guess: s u p e r i o r\n",
      "Congratulations, you won.\n"
     ]
    }
   ],
   "source": [
    "#play hangman using random words from test set\n",
    "if interactive:\n",
    "    hangman(np.random.choice(test_set), human, 8, True)"
   ]
  },
  {
   "cell_type": "markdown",
   "metadata": {},
   "source": [
    "### Question 2 (1.0 mark)\n",
    "\n",
    "**Instructions**: To set a baseline, your first AI attempt will be a trivial **random method**. For this you should implement a guessing method, similar to the `human` method above, i.e., using the same input arguments and returning a character. Your method should randomly choose a character from the range `a ... z` after excluding the characters that have already been guessed in the current game (all subsequent AI approaches should also exclude previous guesses).\n",
    "\n",
    "To help you measure the performance of this (and later) guesser, a `test_guesser` method that takes a guesser and measures the average number of incorrect guesses made over all the words in the `test` is provided to you. \n",
    "\n",
    "**Task**: Complete the `random_guesser` method. It should return a random character from the English alphabets.\n",
    "\n",
    "**Check**: Use the assertion statements in <b>\"For your testing\"</b> below for the expected output."
   ]
  },
  {
   "cell_type": "code",
   "execution_count": 29,
   "metadata": {},
   "outputs": [],
   "source": [
    "def test_guesser(guesser, test):\n",
    "    \"\"\"\n",
    "        This function takes a guesser and measures the average number of incorrect guesses made over all the words in the test_set. \n",
    "    \"\"\"\n",
    "    total = 0\n",
    "    for word in test:\n",
    "        total += hangman(word, guesser, 26, False)\n",
    "    return total / float(len(test))"
   ]
  },
  {
   "cell_type": "code",
   "execution_count": 30,
   "metadata": {},
   "outputs": [
    {
     "name": "stdout",
     "output_type": "stream",
     "text": [
      "Guessing word = reconcile\n",
      "Number of mistakes made by the random guesser = 19\n",
      "\n",
      "Testing the random guesser using every word in test set\n",
      "Average number of incorrect guesses:  16.651\n"
     ]
    }
   ],
   "source": [
    "def random_guesser(mask, guessed, **kwargs):\n",
    "    \n",
    "    alphabet = ['a','b','c','d','e','f','g','h','i','j','k','l','m','n','o','p','q','r','s','t','u','v','w','x','y','z']\n",
    "    \n",
    "    for letter in guessed:\n",
    "        alphabet.remove(letter)\n",
    "        \n",
    "    np.random.shuffle(alphabet)\n",
    "    return alphabet[0]\n",
    "    \n",
    "random_word = np.random.choice(test_set)\n",
    "print(\"Guessing word =\", random_word)\n",
    "print(\"Number of mistakes made by the random guesser =\", hangman(random_word, random_guesser, 26, False))\n",
    "\n",
    "result = test_guesser(random_guesser, test_set)\n",
    "print(\"\\nTesting the random guesser using every word in test set\")\n",
    "print(\"Average number of incorrect guesses: \", result)"
   ]
  },
  {
   "cell_type": "markdown",
   "metadata": {},
   "source": [
    "<b>For your testing:</b>"
   ]
  },
  {
   "cell_type": "code",
   "execution_count": 31,
   "metadata": {},
   "outputs": [],
   "source": [
    "assert(result > 10 and result < 20)"
   ]
  },
  {
   "cell_type": "markdown",
   "metadata": {},
   "source": [
    "### Question 3 (1.0 mark)\n",
    "\n",
    "**Instructions:** As your first real AI, you should train a **unigram language model** over the training set. This requires you to find the frequencies of characters over all training words. Using this model, you should write a guesser that returns the character with the highest probability. Remember to exclude already guessed characters. \n",
    "\n",
    "**Task**: Collect the frequencies of characters and store them in `unigram_counts` (use the first answer space). Complete the `unigram_guesser` method. Note that it takes `unigram_counts` as an additional argument (use the second answer space).\n",
    "\n",
    "**Check**: Use the assertion statements in <b>\"For your testing\"</b> below for the expected output."
   ]
  },
  {
   "cell_type": "code",
   "execution_count": 49,
   "metadata": {},
   "outputs": [
    {
     "name": "stdout",
     "output_type": "stream",
     "text": [
      "Testing the unigram guesser using every word in test set\n",
      "Average number of incorrect guesses:  10.366\n"
     ]
    }
   ],
   "source": [
    "unigram_counts = dict()\n",
    "\n",
    "for word in training_set:\n",
    "    for char in word:\n",
    "        if char in unigram_counts:\n",
    "            unigram_counts[char] += 1\n",
    "        else:\n",
    "            unigram_counts[char] = 1\n",
    "            \n",
    "def unigram_guesser(mask, guessed, unigram_counts=unigram_counts):\n",
    "    # letter_priority returns the list of alphabetic characters starting from the highest frequency to the lowest,\n",
    "    # it sorts the unigram_counts dictionary by its values (frequencies) in descending order and lists the keys\n",
    "    letter_priority = list(dict(sorted(unigram_counts.items(), key=lambda item: item[1], reverse = True)).keys())\n",
    "    \n",
    "    for letter in guessed:\n",
    "        letter_priority.remove(letter)\n",
    "    \n",
    "    return letter_priority[0]\n",
    "\n",
    "result = test_guesser(unigram_guesser, test_set)\n",
    "print(\"Testing the unigram guesser using every word in test set\")\n",
    "print(\"Average number of incorrect guesses: \", result)"
   ]
  },
  {
   "cell_type": "markdown",
   "metadata": {},
   "source": [
    "<b>For your testing:</b>"
   ]
  },
  {
   "cell_type": "code",
   "execution_count": 46,
   "metadata": {},
   "outputs": [],
   "source": [
    "assert(result > 5 and result < 15)"
   ]
  },
  {
   "cell_type": "markdown",
   "metadata": {},
   "source": [
    "### Question 4 (1.0 mark)\n",
    "\n",
    "**Instructions:** The length of the secret word is an important clue that we might exploit. Different lengths tend to have different distributions over characters, e.g., short words are less likely to have suffixes or prefixes. You should incorporate this idea by conditioning the unigram model on the length of the secret word, i.e.,  having a **different unigram model for each length**. You will need to be a little careful at test time, to be robust to the situation that you encounter a word length that you didn't see in training. In such a case, your method should behave like the previous `unigram_guesser` in Question 3 (i.e., it guesses characters based on unigram frequencies, unconditioned by the word length).\n",
    "\n",
    "**Task**: Collect the frequencies of characters conditioned on the word length and store them in `unigram_counts_by_length` (use the first answer space). Complete the `unigram_length_guesser` method (use the second answer space).\n",
    "\n",
    "**Check**: Use the assertion statements in <b>\"For your testing\"</b> below for the expected output."
   ]
  },
  {
   "cell_type": "code",
   "execution_count": 99,
   "metadata": {
    "scrolled": false
   },
   "outputs": [
    {
     "name": "stdout",
     "output_type": "stream",
     "text": [
      "Testing the length-conditioned unigram guesser using every word in test set\n",
      "Average number of incorrect guesses:  10.361\n"
     ]
    }
   ],
   "source": [
    "unigram_counts_by_length = dict()\n",
    "\n",
    "for word in training_set:\n",
    "    if len(word) not in unigram_counts_by_length:\n",
    "        unigram_counts_by_length[len(word)] = dict()\n",
    "        \n",
    "    for char in word:\n",
    "        if char in unigram_counts_by_length[len(word)]:\n",
    "            unigram_counts_by_length[len(word)][char] += 1\n",
    "        else:\n",
    "            unigram_counts_by_length[len(word)][char] = 1\n",
    "            \n",
    "def unigram_length_guesser(mask, guessed, unigram_counts_by_length=unigram_counts_by_length, unigram_counts=unigram_counts):\n",
    "    \n",
    "    if len(mask) in unigram_counts_by_length:\n",
    "        # letter_priority returns the list of alphabetic characters starting from the highest frequency to the lowest,\n",
    "        # similar to above in Q3\n",
    "        letter_priority = list(dict(sorted(unigram_counts_by_length[len(mask)].items(), key=lambda item: item[1], reverse = True)).keys())\n",
    "        \n",
    "        remaining_letters = ['a','b','c','d','e','f','g','h','i','j','k','l','m','n','o','p','q','r','s','t','u','v','w','x','y','z']\n",
    "\n",
    "        for letter in guessed:\n",
    "            if letter in letter_priority:\n",
    "                letter_priority.remove(letter)   \n",
    "            remaining_letters.remove(letter)\n",
    "        \n",
    "        for letter in letter_priority:\n",
    "            remaining_letters.remove(letter)\n",
    "        \n",
    "        if letter_priority:\n",
    "            return letter_priority[0]\n",
    "        else:\n",
    "            # remaining letters not observed in a word of the secret word's length each have equal probability\n",
    "            np.random.shuffle(remaining_letters)\n",
    "            return remaining_letters[0]\n",
    "\n",
    "    else:\n",
    "        return unigram_guesser(mask, guessed, unigram_counts=unigram_counts)\n",
    "    \n",
    "\n",
    "result = test_guesser(unigram_length_guesser, test_set)\n",
    "print(\"Testing the length-conditioned unigram guesser using every word in test set\")\n",
    "print(\"Average number of incorrect guesses: \", result)"
   ]
  },
  {
   "cell_type": "markdown",
   "metadata": {},
   "source": [
    "<b>For your testing:</b>"
   ]
  },
  {
   "cell_type": "code",
   "execution_count": 100,
   "metadata": {},
   "outputs": [],
   "source": [
    "assert(result > 5 and result < 15)"
   ]
  },
  {
   "cell_type": "markdown",
   "metadata": {},
   "source": [
    "### Question 5 (1.0 mark)\n",
    "\n",
    "**Instructions:** Now for the next challenge, you'll build a **bigram language model** over characters. The order of characters is obviously important, yet this wasn't incorporated in any of the above models. Knowing that the word has the sequence `n _ s s` is a pretty strong clue that the missing character might be `e`. Similarly the distribution over characters that start or end a word are highly biased (e.g., toward common prefixes and suffixes, like *un-*, *-ed* and *-ly*).\n",
    "\n",
    "The task here is to develop a bigram language model over characters, and train it over the training words. Remember to be careful when handling the start of each word properly, e.g., by padding with a special starting symbol such as `$`. Do we also need a special ending symbol? That's for you to decide.\n",
    "\n",
    "Your bigram guesser should apply your language model to each blank position in the secret word by using its left context character. For example, in the partial word `e _ c _ b _ _` we know the left context for the first three blanks, but have no known left context for the last blank. In the case for the last blank, you should revert to using a unigram language model (since there's no context for us to use the bigram model). You should sum up the probability distribution (over all alphabets from <i>a</i> to <i>z</i>) for the 4 blanks, and select the alphabet with the highest probability that hasn't been guessed.\n",
    "\n",
    "**Note**:\n",
    "- When backing-off to the unigram language model, you **must use the vanilla unigram language model that you have built in Q3**. Do not use the length-based unigram language model, or any fancy variant, or you will lose marks.\n",
    "- You should build a **standard bigram language model**; i.e. do not do anything complicated like a bidirectional bigram language model.\n",
    "\n",
    "**Task**: Collect frequency counts that are necessary for building a bigram language model and store them in bigram_counts; feel free to add new objects if needed (use the first answer space). Complete the `bigram_guesser` method (use the second answer space). Note that the method currently only has one additional argument (`bigram_counts`), but you are free to add additional arguments."
   ]
  },
  {
   "cell_type": "code",
   "execution_count": 190,
   "metadata": {},
   "outputs": [
    {
     "name": "stdout",
     "output_type": "stream",
     "text": [
      "Testing the bigram guesser using every word in test set\n",
      "Average number of incorrect guesses:  8.868\n"
     ]
    }
   ],
   "source": [
    "bigram_counts = dict()\n",
    "\n",
    "for word in training_set:\n",
    "    # add starting symbols to the word at the front and back\n",
    "    word = \"$\" + word + \"$\"\n",
    "    for i in range(1, len(word)):\n",
    "        # every value in bigram_counts is a dictionary of bigram counts for a given key (letter / \"$\")\n",
    "        # in other words, the keys of bigram_counts are the left context characters and the keys for\n",
    "        # the inner dictionaries are the letters with their respective values (bigram counts)\n",
    "        if word[i-1] in bigram_counts:\n",
    "            if word[i] in bigram_counts[word[i-1]]:\n",
    "                bigram_counts[word[i-1]][word[i]] += 1\n",
    "            else:\n",
    "                bigram_counts[word[i-1]][word[i]] = 1\n",
    "        else:\n",
    "            bigram_counts[word[i-1]] = dict()\n",
    "            if word[i] in bigram_counts[word[i-1]]:\n",
    "                bigram_counts[word[i-1]][word[i]] += 1\n",
    "            else:\n",
    "                bigram_counts[word[i-1]][word[i]] = 1\n",
    "\n",
    "def bigram_guesser(mask, guessed, bigram_counts=bigram_counts, unigram_counts=unigram_counts): # add extra arguments if needed\n",
    "    mask = ['$'] + mask\n",
    "    letters = ['a','b','c','d','e','f','g','h','i','j','k','l','m','n','o','p','q','r','s','t','u','v','w','x','y','z']\n",
    "    for letter in guessed:\n",
    "        letters.remove(letter)\n",
    "        \n",
    "    top_letter = (\"$\", 0.0)\n",
    "    \n",
    "    for letter in letters:\n",
    "        prob_sum = 0.0\n",
    "        for i in range(1,len(mask)):\n",
    "            if (mask[i] == \"_\"):\n",
    "                if (mask[i-1] != \"_\"):\n",
    "                    # only if \"mask[i-1] letter\" has been seen together before in a string\n",
    "                    if letter in bigram_counts[mask[i-1]]:\n",
    "                        # sums up (bigram count for letter given left context mask[i-1] / total count of left context mask[i-1])\n",
    "                        prob_sum += (bigram_counts[mask[i-1]][letter] / sum(bigram_counts[mask[i-1]].values()))\n",
    "                else:\n",
    "                    # sum up probability of letter using unigram_counts from Q3\n",
    "                    prob_sum += (unigram_counts[letter] / sum(unigram_counts.values()))\n",
    "                    \n",
    "        if prob_sum > top_letter[1]:\n",
    "            top_letter = (letter, prob_sum)\n",
    "    \n",
    "    return top_letter[0]\n",
    "\n",
    "result = test_guesser(bigram_guesser, test_set)\n",
    "print(\"Testing the bigram guesser using every word in test set\")\n",
    "print(\"Average number of incorrect guesses: \", result)"
   ]
  },
  {
   "cell_type": "markdown",
   "metadata": {},
   "source": [
    "### Question 6 (1.5 mark)\n",
    "\n",
    "**Instructions:** You should try to develop a more effective AI for hangman. Feel free to engage your creativity here! Possibilities include better conditioning on the length of the word, fancier smoothing methods, ngram models and bidirectional models (lecture 8). Have fun!\n",
    "\n",
    "You will be marked based on the performance of your AI model, using a pre-made training and test set (created using a secret seed). Let x be the average number of mistakes in the test set, you will score:\n",
    "* 1.5 mark if x < 7.6\n",
    "* 1.0 mark if 7.6 <= x < 8.0\n",
    "* 0.5 mark if 8.0 <= x < 8.5\n",
    "* 0.0 mark if x >= 8.5\n",
    "\n",
    "Note: when testing your AI model's performance, you may want to consider trying different training/test splits (using different seeds) to have a better understanding of its performance, as there will be some variance to its performance depending on the training/test split.\n",
    "\n",
    "**Task** Complete the `my_amazing_ai_guesser` method, which implements a better language model for hangman."
   ]
  },
  {
   "cell_type": "code",
   "execution_count": 229,
   "metadata": {},
   "outputs": [
    {
     "name": "stdout",
     "output_type": "stream",
     "text": [
      "Testing my amazing AI guesser using every word in test set\n",
      "Average number of incorrect guesses:  7.536\n"
     ]
    }
   ],
   "source": [
    "left_bigram_counts = bigram_counts\n",
    "right_bigram_counts = dict()\n",
    "left_trigram_counts = dict()\n",
    "right_trigram_counts = dict()\n",
    "\n",
    "# adds to or creates a dictionary key's value\n",
    "def add_create_dict(dictionary, key1, key2 = \"$\"):\n",
    "    # indent for (_ 2 _) letter\n",
    "    if (key2 == \"$\"):\n",
    "        # indent for (_ _ 3) letter\n",
    "        if key1 in dictionary:\n",
    "            dictionary[key1] += 1\n",
    "        else:\n",
    "            dictionary[key1] = 1\n",
    "    else:\n",
    "        if key2 in dictionary:\n",
    "            if key1 in dictionary[key2]:\n",
    "                dictionary[key2][key1] += 1\n",
    "            else:\n",
    "                dictionary[key2][key1] = 1\n",
    "        else:\n",
    "            dictionary[key2] = dict()\n",
    "            if key1 in dictionary[key2]:\n",
    "                dictionary[key2][key1] += 1\n",
    "            else:\n",
    "                dictionary[key2][key1] = 1\n",
    "\n",
    "for word in training_set:\n",
    "    # add starting symbols to the word at the front and back\n",
    "    word = \"$\" + word + \"$\"\n",
    "    \n",
    "    # for right context bigram model\n",
    "    for i in range(0, len(word)-1):\n",
    "        # similar to the bigram_model made in Q5 but for right context letters\n",
    "        if word[i+1] in right_bigram_counts:\n",
    "            add_create_dict(right_bigram_counts[word[i+1]], word[i])\n",
    "        else:\n",
    "            right_bigram_counts[word[i+1]] = dict()\n",
    "            add_create_dict(right_bigram_counts[word[i+1]], word[i])\n",
    "    \n",
    "    # for left context trigram model\n",
    "    for i in range(2, len(word)):\n",
    "        first = word[i-2]       # (1 _ _)\n",
    "        second = word[i-1]      # (_ 2 _)\n",
    "        current = word[i]       # (_ _ 3)\n",
    "        \n",
    "        # trigram_counts works similarly to bigram_counts in Q5 but for trigram models\n",
    "        # first letter (1 _ _) starts at this indent\n",
    "        if first in left_trigram_counts:\n",
    "            # second letter (_ 2 _) and third letter (_ _ 3) starts at this indent\n",
    "            add_create_dict(left_trigram_counts[first], current, second)                     \n",
    "        else:\n",
    "            left_trigram_counts[first] = dict()\n",
    "            add_create_dict(left_trigram_counts[first], current, second)    \n",
    "                    \n",
    "    # for right context trigram model \n",
    "    for i in range(0, len(word) - 2):\n",
    "        current = word[i]       # (1 _ _)\n",
    "        first = word[i+1]       # (_ 2 _)\n",
    "        second = word[i+2]      # (_ _ 3)\n",
    "        \n",
    "        # similar to left_trigram_counts but for right context\n",
    "        # second letter (1 _ _) starts at this indent\n",
    "        if second in right_trigram_counts:\n",
    "            # first letter (_ 2 _) and current letter (_ _ 3) starts at this indent\n",
    "            add_create_dict(right_trigram_counts[second], current, first)  \n",
    "        else:\n",
    "            right_trigram_counts[second] = dict()\n",
    "            add_create_dict(right_trigram_counts[second], current, first)    \n",
    "                \n",
    "# checks if the list of letters that appear a given trigram model has a single letter that has not been guessed\n",
    "def check_validity(valid_list, letters):\n",
    "    for valid_letter in valid_list:\n",
    "        if valid_letter in letters:\n",
    "            return True\n",
    "    return False\n",
    "\n",
    "# returns the probability of a letter using a trigram model using add-one smoothing, can use for either left or right\n",
    "# context (first is the furthest, second is the letter right next to current), defers to bigram and unigram if doesn't work\n",
    "def calc_prob(letters, letter, current, first, second, trigram_counts, bigram_counts, unigram_counts, smoothing):\n",
    "    prob_sum = 0.0\n",
    "    \n",
    "    if (current == \"_\"):\n",
    "        if ((first != \"_\") and (second != \"_\")):\n",
    "            if second in trigram_counts[first]:\n",
    "                # checks if there is still any letters from the trigram's list that have not been guessed\n",
    "                valid_list = list(trigram_counts[first][second].keys())\n",
    "                trigram_exhausted = not check_validity(valid_list, letters)\n",
    "\n",
    "                # only if (first second letter) has been seen together before and trigram's list has a non-guessed letter\n",
    "                if ((letter in trigram_counts[first][second]) and not trigram_exhausted):\n",
    "                    # sums up (trigram count for letters given left/right context / total count of left/right context)\n",
    "                    # with add-one smoothing\n",
    "                    prob_sum += (trigram_counts[first][second][letter] / sum(trigram_counts[first][second].values()))\n",
    "                else:\n",
    "                    prob_sum += smoothing / (sum(trigram_counts[first][second].values()) + (smoothing * len(trigram_counts[first][second]))) \n",
    "\n",
    "        if ((first == \"_\") and (second != \"_\")):\n",
    "            # checks if there is still any letters from the bigram's list that have not been guessed\n",
    "            valid_list = list(bigram_counts[second].keys())\n",
    "            bigram_exhausted = not check_validity(valid_list, letters)\n",
    "\n",
    "            # only if (second letter) for left context / (letter second) for right context has been seen together\n",
    "            # before and bigram's list has a non-guessed letter\n",
    "            if ((letter in bigram_counts[second]) and not bigram_exhausted):\n",
    "                # sums up (bigram count for letter given left context (second _) / total count of left context (second _))\n",
    "                # or (bigram count for letter given right context (_ second) / total count of right context (_ second))\n",
    "                prob_sum += (bigram_counts[second][letter] / sum(bigram_counts[second].values()))\n",
    "            # if (second letter) for left context / (letter second) for right context has not been seen together\n",
    "            # before, we use a add-n smoothing (in this case add-one smoothing)\n",
    "            else:\n",
    "                prob_sum += smoothing / (sum(bigram_counts[second].values()) + (smoothing * len(bigram_counts[second]))) \n",
    "\n",
    "        if (second == \"_\"):\n",
    "            # sum up probability of letter using unigram_counts from Q3\n",
    "            prob_sum += (unigram_counts[letter] / sum(unigram_counts.values()))\n",
    "            \n",
    "    return prob_sum\n",
    "\n",
    "def my_amazing_ai_guesser(mask, guessed, left_trigram_counts=left_trigram_counts, \n",
    "                          right_trigram_counts=right_trigram_counts, left_bigram_counts=left_bigram_counts, \n",
    "                          right_bigram_counts=right_bigram_counts, unigram_counts=unigram_counts):\n",
    "    smoothing = 1\n",
    "    mask = ['$'] + mask + ['$']\n",
    "    letters = ['a','b','c','d','e','f','g','h','i','j','k','l','m','n','o','p','q','r','s','t','u','v','w','x','y','z']\n",
    "    for letter in guessed:\n",
    "        letters.remove(letter)\n",
    "        \n",
    "    top_letter = (\"$\", 0.0)\n",
    "    \n",
    "    for letter in letters:\n",
    "        prob_sum = 0.0\n",
    "        \n",
    "        # left context section for the trigram model\n",
    "        # use bigram model to calculate probability for the first letter in mask if not yet guessed\n",
    "        if (mask[1] == \"_\"):\n",
    "            prob_sum += (left_bigram_counts[\"$\"][letter] / sum(left_bigram_counts[\"$\"].values()))\n",
    "        \n",
    "        for i in range(2,len(mask) - 1):\n",
    "            first = mask[i-2]     # (1 _ _)\n",
    "            second = mask[i-1]    # (_ 2 _)\n",
    "            current = mask[i]     # (_ _ 3)\n",
    "            \n",
    "            prob_sum += calc_prob(letters, letter, current, first, second, left_trigram_counts, left_bigram_counts, unigram_counts, smoothing)\n",
    "        \n",
    "        # right context section for the trigram model\n",
    "        # use bigram model to calculate probability for the last letter in mask if not yet guessed\n",
    "        if (mask[-1] == \"_\"):\n",
    "            prob_sum += (right_bigram_counts[letter][\"$\"] / sum(right_bigram_counts[letter].values()))            \n",
    "        \n",
    "        for i in range(1,len(mask) - 2):\n",
    "            current = mask[i]      # (1 _ _)\n",
    "            second = mask[i+1]     # (_ 2 _)\n",
    "            first = mask[i+2]      # (_ _ 3)\n",
    "            \n",
    "            prob_sum += calc_prob(letters, letter, current, first, second, right_trigram_counts, right_bigram_counts, unigram_counts, smoothing)\n",
    "                    \n",
    "        if ((prob_sum > top_letter[1]) and (letter != '$')):\n",
    "            top_letter = (letter, prob_sum)\n",
    "           \n",
    "    return top_letter[0]\n",
    "\n",
    "result = test_guesser(my_amazing_ai_guesser, test_set)\n",
    "print(\"Testing my amazing AI guesser using every word in test set\")\n",
    "print(\"Average number of incorrect guesses: \", result)"
   ]
  },
  {
   "cell_type": "markdown",
   "metadata": {},
   "source": [
    "### Question 7 (0.5 mark)\n",
    "\n",
    "**Instructions:** Explain your approach and discuss your result below. Please keep your explanation to a short paragraph."
   ]
  },
  {
   "cell_type": "markdown",
   "metadata": {},
   "source": [
    "My first idea to improving the AI guessed from Q5 was to implement a trigram model, which did prove to be a challenge to keep track of all the dictionaries but I prevailed! It wasn't too complicated as it was pretty similar to the bigram model's concept. The difficult part was making it bidirectional. I created 3 new dictionaries (right_bigram_counts, left_trigram_counts, right_trigram_counts) to hold the counts for each respective model to implement the bidirectional aspect and just renamed bigram_counts to left_bigram_counts.\n",
    "\n",
    "In the main ai guesser function, it first adds a \"$\" to the front and the back of the mask as the special starting and ending symbols which will be used to calculate the probabilities as well. It then removes all the already guessed letters. The rest of the code calculates and sums up the probabilities of each letter using a bidirectional approach (left and right context). This is done in the calc_prob function.\n",
    "\n",
    "The calc_function has first (1 _ _), second (_ 2 _), current (_ _ 3) or current (1 _ _), second (_ 2 _), first (_ _ 3) depending on whether it is left or right context respectively (first is the furthest from current, second is the one next to current). The trigram model is only valid if a letter if second and first have been guessed and if there is at least one unguessed letter from the corpus that matches the given first the second. In a valid trigram model, if current has not been seen together with first and second in the corpus a add-one smoothing method is conducted.\n",
    "\n",
    "If a trigram model is invalid, we switch to the bigram model, only considering second (_ 2 _), current (_ _ 3) or current (1 _ _), second (_ 2 _) for left and right contexts respectively. It has similar rules as the trigram one and an invalid bigram model defers to the unigram model. Outside the two for loops we also use the bigram models to calculate the probabilities of the first and last letters in the mask (excluding the beginning and ending special starting symbols '$')."
   ]
  }
 ],
 "metadata": {
  "anaconda-cloud": {},
  "kernelspec": {
   "display_name": "Python 3 (ipykernel)",
   "language": "python",
   "name": "python3"
  },
  "language_info": {
   "codemirror_mode": {
    "name": "ipython",
    "version": 3
   },
   "file_extension": ".py",
   "mimetype": "text/x-python",
   "name": "python",
   "nbconvert_exporter": "python",
   "pygments_lexer": "ipython3",
   "version": "3.9.7"
  }
 },
 "nbformat": 4,
 "nbformat_minor": 1
}
